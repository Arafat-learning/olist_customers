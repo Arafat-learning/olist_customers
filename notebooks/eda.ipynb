{
 "cells": [
  {
   "cell_type": "code",
   "execution_count": 2,
   "id": "466b801f-a674-4921-8989-048f870af89a",
   "metadata": {},
   "outputs": [
    {
     "data": {
      "text/plain": [
       "['../data/sellers.csv',\n",
       " '../data/products.csv',\n",
       " '../data/customers.csv',\n",
       " '../data/order_items.csv',\n",
       " '../data/category_name_translation.csv',\n",
       " '../data/order_reviews.csv',\n",
       " '../data/geolocation.csv',\n",
       " '../data/payments.csv',\n",
       " '../data/orders.csv']"
      ]
     },
     "execution_count": 2,
     "metadata": {},
     "output_type": "execute_result"
    }
   ],
   "source": [
    "import os\n",
    "\n",
    "# Printing list of data files for easy reference\n",
    "data_files = os.listdir(\"../data\")\n",
    "for index, file in enumerate(data_files):\n",
    "    data_files[index] = \"../data/\" + file\n",
    "data_files"
   ]
  },
  {
   "cell_type": "code",
   "execution_count": 25,
   "id": "c082ca61-208f-4bd2-ba6c-55fa601db922",
   "metadata": {},
   "outputs": [],
   "source": [
    "import polars as pl\n",
    "\n",
    "items = pl.read_csv(data_files[3])\n",
    "orders = pl.read_csv(data_files[8])\n",
    "customers = pl.read_csv(data_files[2])"
   ]
  },
  {
   "cell_type": "code",
   "execution_count": 41,
   "id": "daa82cb7-26ff-4b3c-8bf9-8cd54ed3e753",
   "metadata": {},
   "outputs": [
    {
     "data": {
      "text/html": [
       "<div><style>\n",
       ".dataframe > thead > tr,\n",
       ".dataframe > tbody > tr {\n",
       "  text-align: right;\n",
       "  white-space: pre-wrap;\n",
       "}\n",
       "</style>\n",
       "<small>shape: (3_095, 2)</small><table border=\"1\" class=\"dataframe\"><thead><tr><th>seller_id</th><th>price</th></tr><tr><td>str</td><td>f64</td></tr></thead><tbody><tr><td>&quot;4869f7a5dfa277a7dca6462dcf3b52…</td><td>229472.63</td></tr><tr><td>&quot;53243585a1d6dc2643021fd1853d89…</td><td>222776.05</td></tr><tr><td>&quot;4a3ca9315b744ce9f8e93743614938…</td><td>200472.92</td></tr><tr><td>&quot;fa1c13f2614d7b5c4749cbc52fecda…</td><td>194042.03</td></tr><tr><td>&quot;7c67e1448b00f6e969d365cea6b010…</td><td>187923.89</td></tr><tr><td>&hellip;</td><td>&hellip;</td></tr><tr><td>&quot;34aefe746cd81b7f3b23253ea28bef…</td><td>8.0</td></tr><tr><td>&quot;702835e4b785b67a084280efca3557…</td><td>7.6</td></tr><tr><td>&quot;1fa2d3def6adfa70e58c276bb64fe5…</td><td>6.9</td></tr><tr><td>&quot;77128dec4bec4878c37ab7d6169d6f…</td><td>6.5</td></tr><tr><td>&quot;cf6f6bc4df3999b9c6440f124fb2f6…</td><td>3.5</td></tr></tbody></table></div>"
      ],
      "text/plain": [
       "shape: (3_095, 2)\n",
       "┌─────────────────────────────────┬───────────┐\n",
       "│ seller_id                       ┆ price     │\n",
       "│ ---                             ┆ ---       │\n",
       "│ str                             ┆ f64       │\n",
       "╞═════════════════════════════════╪═══════════╡\n",
       "│ 4869f7a5dfa277a7dca6462dcf3b52… ┆ 229472.63 │\n",
       "│ 53243585a1d6dc2643021fd1853d89… ┆ 222776.05 │\n",
       "│ 4a3ca9315b744ce9f8e93743614938… ┆ 200472.92 │\n",
       "│ fa1c13f2614d7b5c4749cbc52fecda… ┆ 194042.03 │\n",
       "│ 7c67e1448b00f6e969d365cea6b010… ┆ 187923.89 │\n",
       "│ …                               ┆ …         │\n",
       "│ 34aefe746cd81b7f3b23253ea28bef… ┆ 8.0       │\n",
       "│ 702835e4b785b67a084280efca3557… ┆ 7.6       │\n",
       "│ 1fa2d3def6adfa70e58c276bb64fe5… ┆ 6.9       │\n",
       "│ 77128dec4bec4878c37ab7d6169d6f… ┆ 6.5       │\n",
       "│ cf6f6bc4df3999b9c6440f124fb2f6… ┆ 3.5       │\n",
       "└─────────────────────────────────┴───────────┘"
      ]
     },
     "execution_count": 41,
     "metadata": {},
     "output_type": "execute_result"
    }
   ],
   "source": [
    "items.group_by(\"seller_id\").agg(pl.col(\"price\").sum()).sort(\"price\", descending = True)"
   ]
  },
  {
   "cell_type": "markdown",
   "id": "ffb37b2e-bc44-4da4-94bf-6d03dfde2cc9",
   "metadata": {},
   "source": [
    "My further analysis will be for \"4869f7a5dfa277a7dca6462dcf3b52b2\" as he is the biggest seller. For easy of reference I will name him Mikey."
   ]
  },
  {
   "cell_type": "code",
   "execution_count": 48,
   "id": "417fd0e2-74bd-44ba-b07b-e57259adab4f",
   "metadata": {},
   "outputs": [
    {
     "data": {
      "text/html": [
       "<div><style>\n",
       ".dataframe > thead > tr,\n",
       ".dataframe > tbody > tr {\n",
       "  text-align: right;\n",
       "  white-space: pre-wrap;\n",
       "}\n",
       "</style>\n",
       "<small>shape: (7, 7)</small><table border=\"1\" class=\"dataframe\"><thead><tr><th>order_id</th><th>order_item_id</th><th>product_id</th><th>seller_id</th><th>shipping_limit_date</th><th>price</th><th>freight_value</th></tr><tr><td>str</td><td>i64</td><td>str</td><td>str</td><td>str</td><td>f64</td><td>f64</td></tr></thead><tbody><tr><td>&quot;1c11d0f4353b31ac3417fbfa5f0f2a…</td><td>1</td><td>&quot;d64738c7b2e2d1778a51e835d8f025…</td><td>&quot;609e1a9a6c2539919b8205cf7c4e6f…</td><td>&quot;2018-02-02 11:31:03&quot;</td><td>43.9</td><td>12.77</td></tr><tr><td>&quot;1c11d0f4353b31ac3417fbfa5f0f2a…</td><td>2</td><td>&quot;a3a10562c9d134b92f04b8cce298d0…</td><td>&quot;822166ed1e47908f7cfb49946d03c7…</td><td>&quot;2018-02-02 11:31:03&quot;</td><td>22.49</td><td>25.54</td></tr><tr><td>&quot;1c11d0f4353b31ac3417fbfa5f0f2a…</td><td>3</td><td>&quot;d80fce9f775927c7d602c2de926759…</td><td>&quot;747c1cdcd1737dcfbd1547f6eb6f2c…</td><td>&quot;2018-02-02 11:31:03&quot;</td><td>88.0</td><td>12.77</td></tr><tr><td>&quot;1c11d0f4353b31ac3417fbfa5f0f2a…</td><td>4</td><td>&quot;ddbf57e4559f03c003fc3708d4860c…</td><td>&quot;1835b56ce799e6a4dc4eddc053f040…</td><td>&quot;2018-02-02 11:31:03&quot;</td><td>29.99</td><td>12.77</td></tr><tr><td>&quot;1c11d0f4353b31ac3417fbfa5f0f2a…</td><td>5</td><td>&quot;a3a10562c9d134b92f04b8cce298d0…</td><td>&quot;822166ed1e47908f7cfb49946d03c7…</td><td>&quot;2018-02-02 11:31:03&quot;</td><td>22.49</td><td>25.54</td></tr><tr><td>&quot;1c11d0f4353b31ac3417fbfa5f0f2a…</td><td>6</td><td>&quot;d3a386ad58b99f0ddcc216ed9efb03…</td><td>&quot;609e1a9a6c2539919b8205cf7c4e6f…</td><td>&quot;2018-02-02 11:31:03&quot;</td><td>43.9</td><td>12.77</td></tr><tr><td>&quot;1c11d0f4353b31ac3417fbfa5f0f2a…</td><td>7</td><td>&quot;61b6e5d2e3ee58d2b341b8ef1a652b…</td><td>&quot;c7fdb77fdbff3c41981bc52f787e95…</td><td>&quot;2018-02-02 11:31:03&quot;</td><td>56.0</td><td>12.77</td></tr></tbody></table></div>"
      ],
      "text/plain": [
       "shape: (7, 7)\n",
       "┌───────────────┬──────────────┬──────────────┬──────────────┬──────────────┬───────┬──────────────┐\n",
       "│ order_id      ┆ order_item_i ┆ product_id   ┆ seller_id    ┆ shipping_lim ┆ price ┆ freight_valu │\n",
       "│ ---           ┆ d            ┆ ---          ┆ ---          ┆ it_date      ┆ ---   ┆ e            │\n",
       "│ str           ┆ ---          ┆ str          ┆ str          ┆ ---          ┆ f64   ┆ ---          │\n",
       "│               ┆ i64          ┆              ┆              ┆ str          ┆       ┆ f64          │\n",
       "╞═══════════════╪══════════════╪══════════════╪══════════════╪══════════════╪═══════╪══════════════╡\n",
       "│ 1c11d0f4353b3 ┆ 1            ┆ d64738c7b2e2 ┆ 609e1a9a6c25 ┆ 2018-02-02   ┆ 43.9  ┆ 12.77        │\n",
       "│ 1ac3417fbfa5f ┆              ┆ d1778a51e835 ┆ 39919b8205cf ┆ 11:31:03     ┆       ┆              │\n",
       "│ 0f2a…         ┆              ┆ d8f025…      ┆ 7c4e6f…      ┆              ┆       ┆              │\n",
       "│ 1c11d0f4353b3 ┆ 2            ┆ a3a10562c9d1 ┆ 822166ed1e47 ┆ 2018-02-02   ┆ 22.49 ┆ 25.54        │\n",
       "│ 1ac3417fbfa5f ┆              ┆ 34b92f04b8cc ┆ 908f7cfb4994 ┆ 11:31:03     ┆       ┆              │\n",
       "│ 0f2a…         ┆              ┆ e298d0…      ┆ 6d03c7…      ┆              ┆       ┆              │\n",
       "│ 1c11d0f4353b3 ┆ 3            ┆ d80fce9f7759 ┆ 747c1cdcd173 ┆ 2018-02-02   ┆ 88.0  ┆ 12.77        │\n",
       "│ 1ac3417fbfa5f ┆              ┆ 27c7d602c2de ┆ 7dcfbd1547f6 ┆ 11:31:03     ┆       ┆              │\n",
       "│ 0f2a…         ┆              ┆ 926759…      ┆ eb6f2c…      ┆              ┆       ┆              │\n",
       "│ 1c11d0f4353b3 ┆ 4            ┆ ddbf57e4559f ┆ 1835b56ce799 ┆ 2018-02-02   ┆ 29.99 ┆ 12.77        │\n",
       "│ 1ac3417fbfa5f ┆              ┆ 03c003fc3708 ┆ e6a4dc4eddc0 ┆ 11:31:03     ┆       ┆              │\n",
       "│ 0f2a…         ┆              ┆ d4860c…      ┆ 53f040…      ┆              ┆       ┆              │\n",
       "│ 1c11d0f4353b3 ┆ 5            ┆ a3a10562c9d1 ┆ 822166ed1e47 ┆ 2018-02-02   ┆ 22.49 ┆ 25.54        │\n",
       "│ 1ac3417fbfa5f ┆              ┆ 34b92f04b8cc ┆ 908f7cfb4994 ┆ 11:31:03     ┆       ┆              │\n",
       "│ 0f2a…         ┆              ┆ e298d0…      ┆ 6d03c7…      ┆              ┆       ┆              │\n",
       "│ 1c11d0f4353b3 ┆ 6            ┆ d3a386ad58b9 ┆ 609e1a9a6c25 ┆ 2018-02-02   ┆ 43.9  ┆ 12.77        │\n",
       "│ 1ac3417fbfa5f ┆              ┆ 9f0ddcc216ed ┆ 39919b8205cf ┆ 11:31:03     ┆       ┆              │\n",
       "│ 0f2a…         ┆              ┆ 9efb03…      ┆ 7c4e6f…      ┆              ┆       ┆              │\n",
       "│ 1c11d0f4353b3 ┆ 7            ┆ 61b6e5d2e3ee ┆ c7fdb77fdbff ┆ 2018-02-02   ┆ 56.0  ┆ 12.77        │\n",
       "│ 1ac3417fbfa5f ┆              ┆ 58d2b341b8ef ┆ 3c41981bc52f ┆ 11:31:03     ┆       ┆              │\n",
       "│ 0f2a…         ┆              ┆ 1a652b…      ┆ 787e95…      ┆              ┆       ┆              │\n",
       "└───────────────┴──────────────┴──────────────┴──────────────┴──────────────┴───────┴──────────────┘"
      ]
     },
     "execution_count": 48,
     "metadata": {},
     "output_type": "execute_result"
    }
   ],
   "source": [
    "items.filter(pl.col(\"order_id\").str.contains(\"1c11d0f4353b31ac3417fbfa5f0f2\"))"
   ]
  },
  {
   "cell_type": "code",
   "execution_count": 51,
   "id": "b99ee50e-70ce-44a0-8fbf-ded53b112a9f",
   "metadata": {},
   "outputs": [],
   "source": [
    "Mikey_orders = items.select([\"order_id\", \"order_item_id\", \"product_id\", \"seller_id\", \"price\"]).filter(pl.col(\"seller_id\") == \"4869f7a5dfa277a7dca6462dcf3b52b2\")"
   ]
  },
  {
   "cell_type": "code",
   "execution_count": 57,
   "id": "2ae37182-591a-4da4-a360-aa444c2671b7",
   "metadata": {},
   "outputs": [
    {
     "data": {
      "text/html": [
       "<div><style>\n",
       ".dataframe > thead > tr,\n",
       ".dataframe > tbody > tr {\n",
       "  text-align: right;\n",
       "  white-space: pre-wrap;\n",
       "}\n",
       "</style>\n",
       "<small>shape: (1, 12)</small><table border=\"1\" class=\"dataframe\"><thead><tr><th>order_id</th><th>order_item_id</th><th>product_id</th><th>seller_id</th><th>price</th><th>customer_id</th><th>order_status</th><th>order_purchase_timestamp</th><th>order_approved_at</th><th>order_delivered_carrier_date</th><th>order_delivered_customer_date</th><th>order_estimated_delivery_date</th></tr><tr><td>u32</td><td>u32</td><td>u32</td><td>u32</td><td>u32</td><td>u32</td><td>u32</td><td>u32</td><td>u32</td><td>u32</td><td>u32</td><td>u32</td></tr></thead><tbody><tr><td>0</td><td>0</td><td>0</td><td>0</td><td>0</td><td>0</td><td>0</td><td>0</td><td>0</td><td>1</td><td>8</td><td>0</td></tr></tbody></table></div>"
      ],
      "text/plain": [
       "shape: (1, 12)\n",
       "┌──────────┬───────────┬───────────┬───────────┬───┬───────────┬───────────┬───────────┬───────────┐\n",
       "│ order_id ┆ order_ite ┆ product_i ┆ seller_id ┆ … ┆ order_app ┆ order_del ┆ order_del ┆ order_est │\n",
       "│ ---      ┆ m_id      ┆ d         ┆ ---       ┆   ┆ roved_at  ┆ ivered_ca ┆ ivered_cu ┆ imated_de │\n",
       "│ u32      ┆ ---       ┆ ---       ┆ u32       ┆   ┆ ---       ┆ rrier_dat ┆ stomer_da ┆ livery_da │\n",
       "│          ┆ u32       ┆ u32       ┆           ┆   ┆ u32       ┆ e         ┆ te        ┆ te        │\n",
       "│          ┆           ┆           ┆           ┆   ┆           ┆ ---       ┆ ---       ┆ ---       │\n",
       "│          ┆           ┆           ┆           ┆   ┆           ┆ u32       ┆ u32       ┆ u32       │\n",
       "╞══════════╪═══════════╪═══════════╪═══════════╪═══╪═══════════╪═══════════╪═══════════╪═══════════╡\n",
       "│ 0        ┆ 0         ┆ 0         ┆ 0         ┆ … ┆ 0         ┆ 1         ┆ 8         ┆ 0         │\n",
       "└──────────┴───────────┴───────────┴───────────┴───┴───────────┴───────────┴───────────┴───────────┘"
      ]
     },
     "execution_count": 57,
     "metadata": {},
     "output_type": "execute_result"
    }
   ],
   "source": [
    "Mikey_orders.join(orders, on = \"order_id\", how = \"left\").null_count()"
   ]
  }
 ],
 "metadata": {
  "kernelspec": {
   "display_name": "Python 3 (ipykernel)",
   "language": "python",
   "name": "python3"
  },
  "language_info": {
   "codemirror_mode": {
    "name": "ipython",
    "version": 3
   },
   "file_extension": ".py",
   "mimetype": "text/x-python",
   "name": "python",
   "nbconvert_exporter": "python",
   "pygments_lexer": "ipython3",
   "version": "3.11.6"
  }
 },
 "nbformat": 4,
 "nbformat_minor": 5
}
